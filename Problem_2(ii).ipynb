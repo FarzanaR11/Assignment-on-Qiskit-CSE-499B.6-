{
  "nbformat": 4,
  "nbformat_minor": 0,
  "metadata": {
    "colab": {
      "name": "Problem 2(ii).ipynb",
      "provenance": [],
      "collapsed_sections": []
    },
    "kernelspec": {
      "name": "python3",
      "display_name": "Python 3"
    },
    "language_info": {
      "name": "python"
    }
  },
  "cells": [
    {
      "cell_type": "code",
      "execution_count": 17,
      "metadata": {
        "colab": {
          "base_uri": "https://localhost:8080/"
        },
        "id": "hdAvialeNkxd",
        "outputId": "72a42e13-615f-4111-8b5f-44f4cacb5e53"
      },
      "outputs": [
        {
          "output_type": "stream",
          "name": "stdout",
          "text": [
            "Looking in indexes: https://pypi.org/simple, https://us-python.pkg.dev/colab-wheels/public/simple/\n",
            "Requirement already satisfied: qiskit in /usr/local/lib/python3.7/dist-packages (0.37.0)\n",
            "Requirement already satisfied: qiskit-terra==0.21.0 in /usr/local/lib/python3.7/dist-packages (from qiskit) (0.21.0)\n",
            "Requirement already satisfied: qiskit-ibmq-provider==0.19.2 in /usr/local/lib/python3.7/dist-packages (from qiskit) (0.19.2)\n",
            "Requirement already satisfied: qiskit-aer==0.10.4 in /usr/local/lib/python3.7/dist-packages (from qiskit) (0.10.4)\n",
            "Requirement already satisfied: numpy>=1.16.3 in /usr/local/lib/python3.7/dist-packages (from qiskit-aer==0.10.4->qiskit) (1.21.6)\n",
            "Requirement already satisfied: scipy>=1.0 in /usr/local/lib/python3.7/dist-packages (from qiskit-aer==0.10.4->qiskit) (1.7.3)\n",
            "Requirement already satisfied: python-dateutil>=2.8.0 in /usr/local/lib/python3.7/dist-packages (from qiskit-ibmq-provider==0.19.2->qiskit) (2.8.2)\n",
            "Requirement already satisfied: urllib3>=1.21.1 in /usr/local/lib/python3.7/dist-packages (from qiskit-ibmq-provider==0.19.2->qiskit) (1.24.3)\n",
            "Requirement already satisfied: websockets>=10.0 in /usr/local/lib/python3.7/dist-packages (from qiskit-ibmq-provider==0.19.2->qiskit) (10.3)\n",
            "Requirement already satisfied: requests>=2.19 in /usr/local/lib/python3.7/dist-packages (from qiskit-ibmq-provider==0.19.2->qiskit) (2.23.0)\n",
            "Requirement already satisfied: requests-ntlm>=1.1.0 in /usr/local/lib/python3.7/dist-packages (from qiskit-ibmq-provider==0.19.2->qiskit) (1.1.0)\n",
            "Requirement already satisfied: websocket-client>=1.0.1 in /usr/local/lib/python3.7/dist-packages (from qiskit-ibmq-provider==0.19.2->qiskit) (1.3.3)\n",
            "Requirement already satisfied: tweedledum<2.0,>=1.1 in /usr/local/lib/python3.7/dist-packages (from qiskit-terra==0.21.0->qiskit) (1.1.1)\n",
            "Requirement already satisfied: typing-extensions in /usr/local/lib/python3.7/dist-packages (from qiskit-terra==0.21.0->qiskit) (4.1.1)\n",
            "Requirement already satisfied: sympy>=1.3 in /usr/local/lib/python3.7/dist-packages (from qiskit-terra==0.21.0->qiskit) (1.7.1)\n",
            "Requirement already satisfied: retworkx>=0.11.0 in /usr/local/lib/python3.7/dist-packages (from qiskit-terra==0.21.0->qiskit) (0.11.0)\n",
            "Requirement already satisfied: dill>=0.3 in /usr/local/lib/python3.7/dist-packages (from qiskit-terra==0.21.0->qiskit) (0.3.5.1)\n",
            "Requirement already satisfied: psutil>=5 in /usr/local/lib/python3.7/dist-packages (from qiskit-terra==0.21.0->qiskit) (5.4.8)\n",
            "Requirement already satisfied: symengine>=0.9 in /usr/local/lib/python3.7/dist-packages (from qiskit-terra==0.21.0->qiskit) (0.9.2)\n",
            "Requirement already satisfied: stevedore>=3.0.0 in /usr/local/lib/python3.7/dist-packages (from qiskit-terra==0.21.0->qiskit) (3.5.0)\n",
            "Requirement already satisfied: shared-memory38 in /usr/local/lib/python3.7/dist-packages (from qiskit-terra==0.21.0->qiskit) (0.1.2)\n",
            "Requirement already satisfied: ply>=3.10 in /usr/local/lib/python3.7/dist-packages (from qiskit-terra==0.21.0->qiskit) (3.11)\n",
            "Requirement already satisfied: six>=1.5 in /usr/local/lib/python3.7/dist-packages (from python-dateutil>=2.8.0->qiskit-ibmq-provider==0.19.2->qiskit) (1.15.0)\n",
            "Requirement already satisfied: idna<3,>=2.5 in /usr/local/lib/python3.7/dist-packages (from requests>=2.19->qiskit-ibmq-provider==0.19.2->qiskit) (2.10)\n",
            "Requirement already satisfied: chardet<4,>=3.0.2 in /usr/local/lib/python3.7/dist-packages (from requests>=2.19->qiskit-ibmq-provider==0.19.2->qiskit) (3.0.4)\n",
            "Requirement already satisfied: certifi>=2017.4.17 in /usr/local/lib/python3.7/dist-packages (from requests>=2.19->qiskit-ibmq-provider==0.19.2->qiskit) (2022.6.15)\n",
            "Requirement already satisfied: cryptography>=1.3 in /usr/local/lib/python3.7/dist-packages (from requests-ntlm>=1.1.0->qiskit-ibmq-provider==0.19.2->qiskit) (37.0.2)\n",
            "Requirement already satisfied: ntlm-auth>=1.0.2 in /usr/local/lib/python3.7/dist-packages (from requests-ntlm>=1.1.0->qiskit-ibmq-provider==0.19.2->qiskit) (1.5.0)\n",
            "Requirement already satisfied: cffi>=1.12 in /usr/local/lib/python3.7/dist-packages (from cryptography>=1.3->requests-ntlm>=1.1.0->qiskit-ibmq-provider==0.19.2->qiskit) (1.15.0)\n",
            "Requirement already satisfied: pycparser in /usr/local/lib/python3.7/dist-packages (from cffi>=1.12->cryptography>=1.3->requests-ntlm>=1.1.0->qiskit-ibmq-provider==0.19.2->qiskit) (2.21)\n",
            "Requirement already satisfied: pbr!=2.1.0,>=2.0.0 in /usr/local/lib/python3.7/dist-packages (from stevedore>=3.0.0->qiskit-terra==0.21.0->qiskit) (5.9.0)\n",
            "Requirement already satisfied: importlib-metadata>=1.7.0 in /usr/local/lib/python3.7/dist-packages (from stevedore>=3.0.0->qiskit-terra==0.21.0->qiskit) (4.11.4)\n",
            "Requirement already satisfied: zipp>=0.5 in /usr/local/lib/python3.7/dist-packages (from importlib-metadata>=1.7.0->stevedore>=3.0.0->qiskit-terra==0.21.0->qiskit) (3.8.0)\n",
            "Requirement already satisfied: mpmath>=0.19 in /usr/local/lib/python3.7/dist-packages (from sympy>=1.3->qiskit-terra==0.21.0->qiskit) (1.2.1)\n",
            "Looking in indexes: https://pypi.org/simple, https://us-python.pkg.dev/colab-wheels/public/simple/\n",
            "Requirement already satisfied: pylatexenc in /usr/local/lib/python3.7/dist-packages (2.10)\n"
          ]
        }
      ],
      "source": [
        "!pip install qiskit\n",
        "!pip install pylatexenc"
      ]
    },
    {
      "cell_type": "code",
      "source": [
        "from qiskit import *\n",
        "from qiskit.tools.monitor import job_monitor\n",
        "from qiskit.tools.visualization import plot_state_qsphere\n",
        "from qiskit.visualization import plot_histogram, plot_bloch_multivector, array_to_latex\n",
        "from math import sqrt, pi"
      ],
      "metadata": {
        "id": "bsAprGsXNyFN"
      },
      "execution_count": 18,
      "outputs": []
    },
    {
      "cell_type": "markdown",
      "source": [
        "Create a Circuit"
      ],
      "metadata": {
        "id": "2LaTyOxkN9e0"
      }
    },
    {
      "cell_type": "code",
      "source": [
        "circuit = QuantumCircuit(2, 2)\n",
        "\n",
        "initial_state = [1/sqrt(2), 1/sqrt(2)]\n",
        "circuit.initialize(initial_state, 0)\n",
        "\n",
        "initial_state = [0.6 , -0.8j]\n",
        "circuit.initialize(initial_state, 1)"
      ],
      "metadata": {
        "id": "ohvI875SN_o0",
        "colab": {
          "base_uri": "https://localhost:8080/"
        },
        "outputId": "cca26a96-d535-43bb-85f2-51f7c655b3cc"
      },
      "execution_count": 19,
      "outputs": [
        {
          "output_type": "execute_result",
          "data": {
            "text/plain": [
              "<qiskit.circuit.instructionset.InstructionSet at 0x7f0b82ccbad0>"
            ]
          },
          "metadata": {},
          "execution_count": 19
        }
      ]
    },
    {
      "cell_type": "markdown",
      "source": [
        "Applying measurement"
      ],
      "metadata": {
        "id": "bbSHRQjnONgl"
      }
    },
    {
      "cell_type": "code",
      "source": [
        "circuit.measure(0, 1)"
      ],
      "metadata": {
        "id": "34oxUfgtOPM7",
        "colab": {
          "base_uri": "https://localhost:8080/"
        },
        "outputId": "5137573b-7684-41dc-aa25-7b55161349b7"
      },
      "execution_count": 20,
      "outputs": [
        {
          "output_type": "execute_result",
          "data": {
            "text/plain": [
              "<qiskit.circuit.instructionset.InstructionSet at 0x7f0b82ccb8d0>"
            ]
          },
          "metadata": {},
          "execution_count": 20
        }
      ]
    },
    {
      "cell_type": "markdown",
      "source": [
        "Draw The Circuit"
      ],
      "metadata": {
        "id": "_LrHVjnfOa5b"
      }
    },
    {
      "cell_type": "code",
      "source": [
        "circuit.draw(output = 'mpl', initial_state=True)"
      ],
      "metadata": {
        "id": "5FSToGuKOewX",
        "colab": {
          "base_uri": "https://localhost:8080/",
          "height": 185
        },
        "outputId": "e00fa91f-3984-4655-9a06-73ad19e3d0b8"
      },
      "execution_count": 21,
      "outputs": [
        {
          "output_type": "execute_result",
          "data": {
            "text/plain": [
              "<Figure size 310.895x204.68 with 1 Axes>"
            ],
            "image/png": "[encoded data removed]"
          },
          "metadata": {},
          "execution_count": 21
        }
      ]
    },
    {
      "cell_type": "markdown",
      "source": [
        "# ***Bell Basis Measurement***\n"
      ],
      "metadata": {
        "id": "dlIts0l7W2WV"
      }
    },
    {
      "cell_type": "markdown",
      "source": [
        " Creating a Circuit"
      ],
      "metadata": {
        "id": "WHG7k6i2XIYu"
      }
    },
    {
      "cell_type": "code",
      "source": [
        "circuit = QuantumCircuit(2, 2)\n",
        "\n",
        "initial_state = [1/sqrt(2), 1/sqrt(2)]\n",
        "circuit.initialize(initial_state, 0)\n",
        "\n",
        "initial_state = [0.6 , -0.8j]\n",
        "circuit.initialize(initial_state, 1)\n",
        "\n",
        "circuit.cz(0,1)\n",
        "circuit.h(0)\n"
      ],
      "metadata": {
        "colab": {
          "base_uri": "https://localhost:8080/"
        },
        "id": "21nWGQkXXLGc",
        "outputId": "6bd4b219-8342-473c-9b5e-368b7f36260d"
      },
      "execution_count": 22,
      "outputs": [
        {
          "output_type": "execute_result",
          "data": {
            "text/plain": [
              "<qiskit.circuit.instructionset.InstructionSet at 0x7f0b82c67950>"
            ]
          },
          "metadata": {},
          "execution_count": 22
        }
      ]
    },
    {
      "cell_type": "markdown",
      "source": [
        "Applying Measurement "
      ],
      "metadata": {
        "id": "MPhYJ1q_XeZW"
      }
    },
    {
      "cell_type": "code",
      "source": [
        "circuit.measure(0, 1)"
      ],
      "metadata": {
        "colab": {
          "base_uri": "https://localhost:8080/"
        },
        "id": "jNXH9rMJXjuU",
        "outputId": "8615b1a5-30c0-4eb1-ceaa-9798c6e34caa"
      },
      "execution_count": 23,
      "outputs": [
        {
          "output_type": "execute_result",
          "data": {
            "text/plain": [
              "<qiskit.circuit.instructionset.InstructionSet at 0x7f0b82cf6310>"
            ]
          },
          "metadata": {},
          "execution_count": 23
        }
      ]
    },
    {
      "cell_type": "markdown",
      "source": [
        "Draw The Circuit"
      ],
      "metadata": {
        "id": "CyTwjGK9Xqo9"
      }
    },
    {
      "cell_type": "code",
      "source": [
        "circuit.draw(output = 'mpl', initial_state=True)"
      ],
      "metadata": {
        "colab": {
          "base_uri": "https://localhost:8080/",
          "height": 185
        },
        "id": "3t63DLmWXrZe",
        "outputId": "965a5c94-8734-4902-dcfc-e93a9c18a8cd"
      },
      "execution_count": 24,
      "outputs": [
        {
          "output_type": "execute_result",
          "data": {
            "text/plain": [
              "<Figure size 431.295x204.68 with 1 Axes>"
            ],
            "image/png": "[encoded data removed]"
          },
          "metadata": {},
          "execution_count": 24
        }
      ]
    }
  ]
}